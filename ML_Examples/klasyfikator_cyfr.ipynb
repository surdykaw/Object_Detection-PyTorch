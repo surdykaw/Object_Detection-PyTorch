{
 "cells": [
  {
   "cell_type": "markdown",
   "id": "d2c9eafb-5956-4986-ba01-db65d02babca",
   "metadata": {},
   "source": [
    "Przykład DL - Klasyfikator cyfr\n",
    "-------------------------------"
   ]
  },
  {
   "cell_type": "markdown",
   "id": "1cffc62d-5ccf-4f29-81c5-04d95a28da52",
   "metadata": {},
   "source": [
    "Import bibliotek"
   ]
  },
  {
   "cell_type": "code",
   "execution_count": 1,
   "id": "73835154-d8bd-48df-b80e-7e99e61dcbdd",
   "metadata": {},
   "outputs": [],
   "source": [
    "from fastai.vision.all import *"
   ]
  },
  {
   "cell_type": "markdown",
   "id": "23f33512-71b2-46f5-895a-7b51dcc7607f",
   "metadata": {},
   "source": [
    "Pobranie próbki zb. obrazów cyfr"
   ]
  },
  {
   "cell_type": "code",
   "execution_count": 2,
   "id": "0f104075-326b-4fed-a10d-3062d651c41d",
   "metadata": {},
   "outputs": [],
   "source": [
    "path = untar_data(URLs.MNIST_SAMPLE)"
   ]
  },
  {
   "cell_type": "code",
   "execution_count": 3,
   "id": "9c62cde7-4402-44af-ba27-b3bd64f6b3af",
   "metadata": {},
   "outputs": [
    {
     "data": {
      "text/plain": [
       "(#3) [Path('C:/Users/Wojtek/.fastai/data/mnist_sample/labels.csv'),Path('C:/Users/Wojtek/.fastai/data/mnist_sample/train'),Path('C:/Users/Wojtek/.fastai/data/mnist_sample/valid')]"
      ]
     },
     "execution_count": 3,
     "metadata": {},
     "output_type": "execute_result"
    }
   ],
   "source": [
    "path.ls()"
   ]
  },
  {
   "cell_type": "code",
   "execution_count": 4,
   "id": "e05942b9-8462-4133-b1a6-de389569267a",
   "metadata": {},
   "outputs": [
    {
     "data": {
      "text/plain": [
       "(#2) [Path('C:/Users/Wojtek/.fastai/data/mnist_sample/train/3'),Path('C:/Users/Wojtek/.fastai/data/mnist_sample/train/7')]"
      ]
     },
     "execution_count": 4,
     "metadata": {},
     "output_type": "execute_result"
    }
   ],
   "source": [
    "(path/'train').ls()"
   ]
  },
  {
   "cell_type": "code",
   "execution_count": 5,
   "id": "1a404f54-238e-4f64-8c03-65b213e1ce1e",
   "metadata": {},
   "outputs": [
    {
     "data": {
      "text/plain": [
       "(#6265) [Path('C:/Users/Wojtek/.fastai/data/mnist_sample/train/7/10002.png'),Path('C:/Users/Wojtek/.fastai/data/mnist_sample/train/7/1001.png'),Path('C:/Users/Wojtek/.fastai/data/mnist_sample/train/7/10014.png'),Path('C:/Users/Wojtek/.fastai/data/mnist_sample/train/7/10019.png'),Path('C:/Users/Wojtek/.fastai/data/mnist_sample/train/7/10039.png'),Path('C:/Users/Wojtek/.fastai/data/mnist_sample/train/7/10046.png'),Path('C:/Users/Wojtek/.fastai/data/mnist_sample/train/7/10050.png'),Path('C:/Users/Wojtek/.fastai/data/mnist_sample/train/7/10063.png'),Path('C:/Users/Wojtek/.fastai/data/mnist_sample/train/7/10077.png'),Path('C:/Users/Wojtek/.fastai/data/mnist_sample/train/7/10086.png')...]"
      ]
     },
     "execution_count": 5,
     "metadata": {},
     "output_type": "execute_result"
    }
   ],
   "source": [
    "threes = (path/'train'/'3').ls().sorted()\n",
    "sevens = (path/'train'/'7').ls().sorted()\n",
    "sevens"
   ]
  },
  {
   "cell_type": "markdown",
   "id": "0a2b9646-ba80-4e96-b3ac-e6bffc12b309",
   "metadata": {},
   "source": [
    "Przykładowe odpalenie obrazka"
   ]
  },
  {
   "cell_type": "code",
   "execution_count": 6,
   "id": "9079c0c7-a1cc-4ac9-904f-e792ebfe9b38",
   "metadata": {},
   "outputs": [
    {
     "data": {
      "image/jpeg": "[encoded data removed]",
      "image/png": "[encoded data removed]",
      "text/plain": [
       "<PIL.PngImagePlugin.PngImageFile image mode=L size=28x28>"
      ]
     },
     "execution_count": 6,
     "metadata": {},
     "output_type": "execute_result"
    }
   ],
   "source": [
    "im3_path = threes[1]\n",
    "im3 = Image.open(im3_path)\n",
    "im3"
   ]
  },
  {
   "cell_type": "markdown",
   "id": "7781c01f-280c-4c9b-af13-b3eefba1bffc",
   "metadata": {},
   "source": [
    "Przykładowa konwersja obrazu do tablicy NumPy i tensora PyTorch"
   ]
  },
  {
   "cell_type": "code",
   "execution_count": 7,
   "id": "8f17828c-fd46-48cb-86be-11eece5a384f",
   "metadata": {},
   "outputs": [
    {
     "data": {
      "text/plain": [
       "tensor([[  0,   0,   0,   0,   0,   0],\n",
       "        [  0,   0,   0,   0,   0,  29],\n",
       "        [  0,   0,   0,  48, 166, 224],\n",
       "        [  0,  93, 244, 249, 253, 187],\n",
       "        [  0, 107, 253, 253, 230,  48],\n",
       "        [  0,   3,  20,  20,  15,   0]], dtype=torch.uint8)"
      ]
     },
     "execution_count": 7,
     "metadata": {},
     "output_type": "execute_result"
    }
   ],
   "source": [
    "# NumPy\n",
    "array(im3)[4:10,4:10]\n",
    "# PyTorch tensor\n",
    "tensor(im3)[4:10,4:10]"
   ]
  },
  {
   "cell_type": "code",
   "execution_count": 8,
   "id": "5835c8dd-886b-4bce-a6fb-35e612fe5368",
   "metadata": {},
   "outputs": [
    {
     "data": {
      "text/html": [
       "<style type=\"text/css\">\n",
       "#T_1a9d6_row0_col0, #T_1a9d6_row0_col1, #T_1a9d6_row0_col2, #T_1a9d6_row0_col3, #T_1a9d6_row0_col4, #T_1a9d6_row0_col5, #T_1a9d6_row0_col6, #T_1a9d6_row0_col7, #T_1a9d6_row0_col8, #T_1a9d6_row0_col9, #T_1a9d6_row0_col10, #T_1a9d6_row0_col11, #T_1a9d6_row0_col12, #T_1a9d6_row0_col13, #T_1a9d6_row1_col0, #T_1a9d6_row1_col1, #T_1a9d6_row1_col2, #T_1a9d6_row1_col3, #T_1a9d6_row1_col4, #T_1a9d6_row2_col0, #T_1a9d6_row2_col1, #T_1a9d6_row2_col2, #T_1a9d6_row3_col0, #T_1a9d6_row4_col0, #T_1a9d6_row4_col6, #T_1a9d6_row4_col7, #T_1a9d6_row4_col8, #T_1a9d6_row4_col9, #T_1a9d6_row4_col10, #T_1a9d6_row5_col0, #T_1a9d6_row5_col5, #T_1a9d6_row5_col6, #T_1a9d6_row5_col7, #T_1a9d6_row5_col8, #T_1a9d6_row5_col9 {\n",
       "  font-size: 6pt;\n",
       "  background-color: #ffffff;\n",
       "  color: #000000;\n",
       "}\n",
       "#T_1a9d6_row1_col5 {\n",
       "  font-size: 6pt;\n",
       "  background-color: #efefef;\n",
       "  color: #000000;\n",
       "}\n",
       "#T_1a9d6_row1_col6, #T_1a9d6_row1_col13 {\n",
       "  font-size: 6pt;\n",
       "  background-color: #7c7c7c;\n",
       "  color: #f1f1f1;\n",
       "}\n",
       "#T_1a9d6_row1_col7 {\n",
       "  font-size: 6pt;\n",
       "  background-color: #4a4a4a;\n",
       "  color: #f1f1f1;\n",
       "}\n",
       "#T_1a9d6_row1_col8, #T_1a9d6_row1_col9, #T_1a9d6_row1_col10, #T_1a9d6_row2_col5, #T_1a9d6_row2_col6, #T_1a9d6_row2_col7, #T_1a9d6_row2_col11, #T_1a9d6_row2_col12, #T_1a9d6_row2_col13, #T_1a9d6_row3_col4, #T_1a9d6_row3_col12, #T_1a9d6_row3_col13, #T_1a9d6_row4_col1, #T_1a9d6_row4_col2, #T_1a9d6_row4_col3, #T_1a9d6_row4_col12, #T_1a9d6_row4_col13, #T_1a9d6_row5_col12 {\n",
       "  font-size: 6pt;\n",
       "  background-color: #000000;\n",
       "  color: #f1f1f1;\n",
       "}\n",
       "#T_1a9d6_row1_col11 {\n",
       "  font-size: 6pt;\n",
       "  background-color: #606060;\n",
       "  color: #f1f1f1;\n",
       "}\n",
       "#T_1a9d6_row1_col12 {\n",
       "  font-size: 6pt;\n",
       "  background-color: #4d4d4d;\n",
       "  color: #f1f1f1;\n",
       "}\n",
       "#T_1a9d6_row2_col3 {\n",
       "  font-size: 6pt;\n",
       "  background-color: #e4e4e4;\n",
       "  color: #000000;\n",
       "}\n",
       "#T_1a9d6_row2_col4 {\n",
       "  font-size: 6pt;\n",
       "  background-color: #6b6b6b;\n",
       "  color: #f1f1f1;\n",
       "}\n",
       "#T_1a9d6_row2_col8 {\n",
       "  font-size: 6pt;\n",
       "  background-color: #171717;\n",
       "  color: #f1f1f1;\n",
       "}\n",
       "#T_1a9d6_row2_col9, #T_1a9d6_row3_col11 {\n",
       "  font-size: 6pt;\n",
       "  background-color: #4b4b4b;\n",
       "  color: #f1f1f1;\n",
       "}\n",
       "#T_1a9d6_row2_col10 {\n",
       "  font-size: 6pt;\n",
       "  background-color: #010101;\n",
       "  color: #f1f1f1;\n",
       "}\n",
       "#T_1a9d6_row3_col1 {\n",
       "  font-size: 6pt;\n",
       "  background-color: #272727;\n",
       "  color: #f1f1f1;\n",
       "}\n",
       "#T_1a9d6_row3_col2 {\n",
       "  font-size: 6pt;\n",
       "  background-color: #0a0a0a;\n",
       "  color: #f1f1f1;\n",
       "}\n",
       "#T_1a9d6_row3_col3 {\n",
       "  font-size: 6pt;\n",
       "  background-color: #050505;\n",
       "  color: #f1f1f1;\n",
       "}\n",
       "#T_1a9d6_row3_col5 {\n",
       "  font-size: 6pt;\n",
       "  background-color: #333333;\n",
       "  color: #f1f1f1;\n",
       "}\n",
       "#T_1a9d6_row3_col6 {\n",
       "  font-size: 6pt;\n",
       "  background-color: #e6e6e6;\n",
       "  color: #000000;\n",
       "}\n",
       "#T_1a9d6_row3_col7, #T_1a9d6_row3_col10 {\n",
       "  font-size: 6pt;\n",
       "  background-color: #fafafa;\n",
       "  color: #000000;\n",
       "}\n",
       "#T_1a9d6_row3_col8 {\n",
       "  font-size: 6pt;\n",
       "  background-color: #fbfbfb;\n",
       "  color: #000000;\n",
       "}\n",
       "#T_1a9d6_row3_col9 {\n",
       "  font-size: 6pt;\n",
       "  background-color: #fdfdfd;\n",
       "  color: #000000;\n",
       "}\n",
       "#T_1a9d6_row4_col4 {\n",
       "  font-size: 6pt;\n",
       "  background-color: #1b1b1b;\n",
       "  color: #f1f1f1;\n",
       "}\n",
       "#T_1a9d6_row4_col5 {\n",
       "  font-size: 6pt;\n",
       "  background-color: #e0e0e0;\n",
       "  color: #000000;\n",
       "}\n",
       "#T_1a9d6_row4_col11 {\n",
       "  font-size: 6pt;\n",
       "  background-color: #4e4e4e;\n",
       "  color: #f1f1f1;\n",
       "}\n",
       "#T_1a9d6_row5_col1 {\n",
       "  font-size: 6pt;\n",
       "  background-color: #fcfcfc;\n",
       "  color: #000000;\n",
       "}\n",
       "#T_1a9d6_row5_col2, #T_1a9d6_row5_col3 {\n",
       "  font-size: 6pt;\n",
       "  background-color: #f6f6f6;\n",
       "  color: #000000;\n",
       "}\n",
       "#T_1a9d6_row5_col4 {\n",
       "  font-size: 6pt;\n",
       "  background-color: #f8f8f8;\n",
       "  color: #000000;\n",
       "}\n",
       "#T_1a9d6_row5_col10 {\n",
       "  font-size: 6pt;\n",
       "  background-color: #e8e8e8;\n",
       "  color: #000000;\n",
       "}\n",
       "#T_1a9d6_row5_col11 {\n",
       "  font-size: 6pt;\n",
       "  background-color: #222222;\n",
       "  color: #f1f1f1;\n",
       "}\n",
       "#T_1a9d6_row5_col13 {\n",
       "  font-size: 6pt;\n",
       "  background-color: #090909;\n",
       "  color: #f1f1f1;\n",
       "}\n",
       "</style>\n",
       "<table id=\"T_1a9d6\">\n",
       "  <thead>\n",
       "    <tr>\n",
       "      <th class=\"blank level0\" >&nbsp;</th>\n",
       "      <th id=\"T_1a9d6_level0_col0\" class=\"col_heading level0 col0\" >0</th>\n",
       "      <th id=\"T_1a9d6_level0_col1\" class=\"col_heading level0 col1\" >1</th>\n",
       "      <th id=\"T_1a9d6_level0_col2\" class=\"col_heading level0 col2\" >2</th>\n",
       "      <th id=\"T_1a9d6_level0_col3\" class=\"col_heading level0 col3\" >3</th>\n",
       "      <th id=\"T_1a9d6_level0_col4\" class=\"col_heading level0 col4\" >4</th>\n",
       "      <th id=\"T_1a9d6_level0_col5\" class=\"col_heading level0 col5\" >5</th>\n",
       "      <th id=\"T_1a9d6_level0_col6\" class=\"col_heading level0 col6\" >6</th>\n",
       "      <th id=\"T_1a9d6_level0_col7\" class=\"col_heading level0 col7\" >7</th>\n",
       "      <th id=\"T_1a9d6_level0_col8\" class=\"col_heading level0 col8\" >8</th>\n",
       "      <th id=\"T_1a9d6_level0_col9\" class=\"col_heading level0 col9\" >9</th>\n",
       "      <th id=\"T_1a9d6_level0_col10\" class=\"col_heading level0 col10\" >10</th>\n",
       "      <th id=\"T_1a9d6_level0_col11\" class=\"col_heading level0 col11\" >11</th>\n",
       "      <th id=\"T_1a9d6_level0_col12\" class=\"col_heading level0 col12\" >12</th>\n",
       "      <th id=\"T_1a9d6_level0_col13\" class=\"col_heading level0 col13\" >13</th>\n",
       "    </tr>\n",
       "  </thead>\n",
       "  <tbody>\n",
       "    <tr>\n",
       "      <th id=\"T_1a9d6_level0_row0\" class=\"row_heading level0 row0\" >0</th>\n",
       "      <td id=\"T_1a9d6_row0_col0\" class=\"data row0 col0\" >0</td>\n",
       "      <td id=\"T_1a9d6_row0_col1\" class=\"data row0 col1\" >0</td>\n",
       "      <td id=\"T_1a9d6_row0_col2\" class=\"data row0 col2\" >0</td>\n",
       "      <td id=\"T_1a9d6_row0_col3\" class=\"data row0 col3\" >0</td>\n",
       "      <td id=\"T_1a9d6_row0_col4\" class=\"data row0 col4\" >0</td>\n",
       "      <td id=\"T_1a9d6_row0_col5\" class=\"data row0 col5\" >0</td>\n",
       "      <td id=\"T_1a9d6_row0_col6\" class=\"data row0 col6\" >0</td>\n",
       "      <td id=\"T_1a9d6_row0_col7\" class=\"data row0 col7\" >0</td>\n",
       "      <td id=\"T_1a9d6_row0_col8\" class=\"data row0 col8\" >0</td>\n",
       "      <td id=\"T_1a9d6_row0_col9\" class=\"data row0 col9\" >0</td>\n",
       "      <td id=\"T_1a9d6_row0_col10\" class=\"data row0 col10\" >0</td>\n",
       "      <td id=\"T_1a9d6_row0_col11\" class=\"data row0 col11\" >0</td>\n",
       "      <td id=\"T_1a9d6_row0_col12\" class=\"data row0 col12\" >0</td>\n",
       "      <td id=\"T_1a9d6_row0_col13\" class=\"data row0 col13\" >0</td>\n",
       "    </tr>\n",
       "    <tr>\n",
       "      <th id=\"T_1a9d6_level0_row1\" class=\"row_heading level0 row1\" >1</th>\n",
       "      <td id=\"T_1a9d6_row1_col0\" class=\"data row1 col0\" >0</td>\n",
       "      <td id=\"T_1a9d6_row1_col1\" class=\"data row1 col1\" >0</td>\n",
       "      <td id=\"T_1a9d6_row1_col2\" class=\"data row1 col2\" >0</td>\n",
       "      <td id=\"T_1a9d6_row1_col3\" class=\"data row1 col3\" >0</td>\n",
       "      <td id=\"T_1a9d6_row1_col4\" class=\"data row1 col4\" >0</td>\n",
       "      <td id=\"T_1a9d6_row1_col5\" class=\"data row1 col5\" >29</td>\n",
       "      <td id=\"T_1a9d6_row1_col6\" class=\"data row1 col6\" >150</td>\n",
       "      <td id=\"T_1a9d6_row1_col7\" class=\"data row1 col7\" >195</td>\n",
       "      <td id=\"T_1a9d6_row1_col8\" class=\"data row1 col8\" >254</td>\n",
       "      <td id=\"T_1a9d6_row1_col9\" class=\"data row1 col9\" >255</td>\n",
       "      <td id=\"T_1a9d6_row1_col10\" class=\"data row1 col10\" >254</td>\n",
       "      <td id=\"T_1a9d6_row1_col11\" class=\"data row1 col11\" >176</td>\n",
       "      <td id=\"T_1a9d6_row1_col12\" class=\"data row1 col12\" >193</td>\n",
       "      <td id=\"T_1a9d6_row1_col13\" class=\"data row1 col13\" >150</td>\n",
       "    </tr>\n",
       "    <tr>\n",
       "      <th id=\"T_1a9d6_level0_row2\" class=\"row_heading level0 row2\" >2</th>\n",
       "      <td id=\"T_1a9d6_row2_col0\" class=\"data row2 col0\" >0</td>\n",
       "      <td id=\"T_1a9d6_row2_col1\" class=\"data row2 col1\" >0</td>\n",
       "      <td id=\"T_1a9d6_row2_col2\" class=\"data row2 col2\" >0</td>\n",
       "      <td id=\"T_1a9d6_row2_col3\" class=\"data row2 col3\" >48</td>\n",
       "      <td id=\"T_1a9d6_row2_col4\" class=\"data row2 col4\" >166</td>\n",
       "      <td id=\"T_1a9d6_row2_col5\" class=\"data row2 col5\" >224</td>\n",
       "      <td id=\"T_1a9d6_row2_col6\" class=\"data row2 col6\" >253</td>\n",
       "      <td id=\"T_1a9d6_row2_col7\" class=\"data row2 col7\" >253</td>\n",
       "      <td id=\"T_1a9d6_row2_col8\" class=\"data row2 col8\" >234</td>\n",
       "      <td id=\"T_1a9d6_row2_col9\" class=\"data row2 col9\" >196</td>\n",
       "      <td id=\"T_1a9d6_row2_col10\" class=\"data row2 col10\" >253</td>\n",
       "      <td id=\"T_1a9d6_row2_col11\" class=\"data row2 col11\" >253</td>\n",
       "      <td id=\"T_1a9d6_row2_col12\" class=\"data row2 col12\" >253</td>\n",
       "      <td id=\"T_1a9d6_row2_col13\" class=\"data row2 col13\" >253</td>\n",
       "    </tr>\n",
       "    <tr>\n",
       "      <th id=\"T_1a9d6_level0_row3\" class=\"row_heading level0 row3\" >3</th>\n",
       "      <td id=\"T_1a9d6_row3_col0\" class=\"data row3 col0\" >0</td>\n",
       "      <td id=\"T_1a9d6_row3_col1\" class=\"data row3 col1\" >93</td>\n",
       "      <td id=\"T_1a9d6_row3_col2\" class=\"data row3 col2\" >244</td>\n",
       "      <td id=\"T_1a9d6_row3_col3\" class=\"data row3 col3\" >249</td>\n",
       "      <td id=\"T_1a9d6_row3_col4\" class=\"data row3 col4\" >253</td>\n",
       "      <td id=\"T_1a9d6_row3_col5\" class=\"data row3 col5\" >187</td>\n",
       "      <td id=\"T_1a9d6_row3_col6\" class=\"data row3 col6\" >46</td>\n",
       "      <td id=\"T_1a9d6_row3_col7\" class=\"data row3 col7\" >10</td>\n",
       "      <td id=\"T_1a9d6_row3_col8\" class=\"data row3 col8\" >8</td>\n",
       "      <td id=\"T_1a9d6_row3_col9\" class=\"data row3 col9\" >4</td>\n",
       "      <td id=\"T_1a9d6_row3_col10\" class=\"data row3 col10\" >10</td>\n",
       "      <td id=\"T_1a9d6_row3_col11\" class=\"data row3 col11\" >194</td>\n",
       "      <td id=\"T_1a9d6_row3_col12\" class=\"data row3 col12\" >253</td>\n",
       "      <td id=\"T_1a9d6_row3_col13\" class=\"data row3 col13\" >253</td>\n",
       "    </tr>\n",
       "    <tr>\n",
       "      <th id=\"T_1a9d6_level0_row4\" class=\"row_heading level0 row4\" >4</th>\n",
       "      <td id=\"T_1a9d6_row4_col0\" class=\"data row4 col0\" >0</td>\n",
       "      <td id=\"T_1a9d6_row4_col1\" class=\"data row4 col1\" >107</td>\n",
       "      <td id=\"T_1a9d6_row4_col2\" class=\"data row4 col2\" >253</td>\n",
       "      <td id=\"T_1a9d6_row4_col3\" class=\"data row4 col3\" >253</td>\n",
       "      <td id=\"T_1a9d6_row4_col4\" class=\"data row4 col4\" >230</td>\n",
       "      <td id=\"T_1a9d6_row4_col5\" class=\"data row4 col5\" >48</td>\n",
       "      <td id=\"T_1a9d6_row4_col6\" class=\"data row4 col6\" >0</td>\n",
       "      <td id=\"T_1a9d6_row4_col7\" class=\"data row4 col7\" >0</td>\n",
       "      <td id=\"T_1a9d6_row4_col8\" class=\"data row4 col8\" >0</td>\n",
       "      <td id=\"T_1a9d6_row4_col9\" class=\"data row4 col9\" >0</td>\n",
       "      <td id=\"T_1a9d6_row4_col10\" class=\"data row4 col10\" >0</td>\n",
       "      <td id=\"T_1a9d6_row4_col11\" class=\"data row4 col11\" >192</td>\n",
       "      <td id=\"T_1a9d6_row4_col12\" class=\"data row4 col12\" >253</td>\n",
       "      <td id=\"T_1a9d6_row4_col13\" class=\"data row4 col13\" >253</td>\n",
       "    </tr>\n",
       "    <tr>\n",
       "      <th id=\"T_1a9d6_level0_row5\" class=\"row_heading level0 row5\" >5</th>\n",
       "      <td id=\"T_1a9d6_row5_col0\" class=\"data row5 col0\" >0</td>\n",
       "      <td id=\"T_1a9d6_row5_col1\" class=\"data row5 col1\" >3</td>\n",
       "      <td id=\"T_1a9d6_row5_col2\" class=\"data row5 col2\" >20</td>\n",
       "      <td id=\"T_1a9d6_row5_col3\" class=\"data row5 col3\" >20</td>\n",
       "      <td id=\"T_1a9d6_row5_col4\" class=\"data row5 col4\" >15</td>\n",
       "      <td id=\"T_1a9d6_row5_col5\" class=\"data row5 col5\" >0</td>\n",
       "      <td id=\"T_1a9d6_row5_col6\" class=\"data row5 col6\" >0</td>\n",
       "      <td id=\"T_1a9d6_row5_col7\" class=\"data row5 col7\" >0</td>\n",
       "      <td id=\"T_1a9d6_row5_col8\" class=\"data row5 col8\" >0</td>\n",
       "      <td id=\"T_1a9d6_row5_col9\" class=\"data row5 col9\" >0</td>\n",
       "      <td id=\"T_1a9d6_row5_col10\" class=\"data row5 col10\" >43</td>\n",
       "      <td id=\"T_1a9d6_row5_col11\" class=\"data row5 col11\" >224</td>\n",
       "      <td id=\"T_1a9d6_row5_col12\" class=\"data row5 col12\" >253</td>\n",
       "      <td id=\"T_1a9d6_row5_col13\" class=\"data row5 col13\" >245</td>\n",
       "    </tr>\n",
       "  </tbody>\n",
       "</table>\n"
      ],
      "text/plain": [
       "<pandas.io.formats.style.Styler at 0x2161dbf4740>"
      ]
     },
     "execution_count": 8,
     "metadata": {},
     "output_type": "execute_result"
    }
   ],
   "source": [
    "# Wizualizacja\n",
    "im3_t = tensor(im3)\n",
    "df = pd.DataFrame(im3_t[4:10, 4:18])\n",
    "df.style.set_properties(**{'font-size':'6pt'}).background_gradient('Greys')"
   ]
  },
  {
   "cell_type": "markdown",
   "id": "019048a7-4f05-4f68-b22b-dbe18415a26d",
   "metadata": {},
   "source": [
    "Tworzenie modelu - official"
   ]
  },
  {
   "cell_type": "code",
   "execution_count": 9,
   "id": "6370fbe1-4a58-4fff-a4f2-ae28f92dd1da",
   "metadata": {},
   "outputs": [],
   "source": [
    "# Zdefiniowanie tensorów do przechowywania wszystkich obrazow\n",
    "seven_tensors = [tensor(Image.open(o)) for o in sevens]\n",
    "three_tensors = [tensor(Image.open(o)) for o in threes]\n",
    "#show_image(three_tensors[3]);\n"
   ]
  },
  {
   "cell_type": "code",
   "execution_count": 10,
   "id": "829b3a4f-5940-402e-a58b-eb523baa095e",
   "metadata": {},
   "outputs": [
    {
     "data": {
      "text/plain": [
       "torch.Size([6265, 28, 28])"
      ]
     },
     "execution_count": 10,
     "metadata": {},
     "output_type": "execute_result"
    }
   ],
   "source": [
    "# Rzutowanie wynikowych tensorów na float\n",
    "stacked_sevens = torch.stack(seven_tensors).float()/255\n",
    "stacked_threes = torch.stack(three_tensors).float()/255\n",
    "stacked_sevens.shape"
   ]
  },
  {
   "cell_type": "code",
   "execution_count": 11,
   "id": "2ca58604-e3cc-40eb-ab35-729dcd95395d",
   "metadata": {},
   "outputs": [],
   "source": [
    "mean3 = stacked_threes.mean(0)\n",
    "mean7 = stacked_sevens.mean(0)\n",
    "#show_image(mean7);"
   ]
  },
  {
   "cell_type": "code",
   "execution_count": 12,
   "id": "a36497af-9b65-4552-be29-957e3bddea2c",
   "metadata": {},
   "outputs": [],
   "source": [
    "a_3 = stacked_threes[5]"
   ]
  },
  {
   "cell_type": "markdown",
   "id": "67035b2b-ad2b-426b-9a61-da0941ed1502",
   "metadata": {},
   "source": [
    "Obliczanie wielkości różnic między obrazem uśrednionym a dowolnym"
   ]
  },
  {
   "cell_type": "code",
   "execution_count": 13,
   "id": "212a3aa4-870a-45a7-bc6b-acc78453e08c",
   "metadata": {},
   "outputs": [
    {
     "name": "stdout",
     "output_type": "stream",
     "text": [
      "tensor(0.1700) tensor(0.3016)\n",
      "tensor(0.2198) tensor(0.3829)\n"
     ]
    }
   ],
   "source": [
    "# Średnia różnica bezwzględna - norma L1\n",
    "dist_3_abs = (a_3 - mean3).abs().mean()\n",
    "# Srednia z kwadratu różnic\n",
    "dist_3_sqr = ((a_3 - mean3)**2).mean().sqrt()\n",
    "print(dist_3_abs,dist_3_sqr)\n",
    "\n",
    "dist_7_abs = (a_3 - mean7).abs().mean()\n",
    "dist_7_sqr = ((a_3 - mean7)**2).mean().sqrt()\n",
    "print(dist_7_abs,dist_7_sqr)"
   ]
  },
  {
   "cell_type": "code",
   "execution_count": 14,
   "id": "ccf816e9-427c-43a1-b47b-7514a44ab5bb",
   "metadata": {},
   "outputs": [],
   "source": [
    "import torch.nn.functional as Ft"
   ]
  },
  {
   "cell_type": "code",
   "execution_count": 15,
   "id": "f44b631d-9d2e-461e-a134-4abb1f6881f0",
   "metadata": {},
   "outputs": [
    {
     "data": {
      "text/plain": [
       "(tensor(0.2198), tensor(0.3829))"
      ]
     },
     "execution_count": 15,
     "metadata": {},
     "output_type": "execute_result"
    }
   ],
   "source": [
    "Ft.l1_loss(a_3.float(),mean7), Ft.mse_loss(a_3,mean7).sqrt()"
   ]
  },
  {
   "cell_type": "code",
   "execution_count": 20,
   "id": "c53b9960-0136-4b23-ab68-86e1d74149b4",
   "metadata": {},
   "outputs": [
    {
     "data": {
      "text/plain": [
       "(torch.Size([1010, 28, 28]), torch.Size([1028, 28, 28]))"
      ]
     },
     "execution_count": 20,
     "metadata": {},
     "output_type": "execute_result"
    }
   ],
   "source": [
    "# Definiowanie wskaznika poprawnosci predykcji\n",
    "valid_3_tens = torch.stack([tensor(Image.open(o)) for o in (path/\"valid\"/'3').ls()])\n",
    "valid_3_tens = valid_3_tens.float()/255\n",
    "\n",
    "valid_7_tens = torch.stack([tensor(Image.open(o)) for o in (path/\"valid\"/'7').ls()])\n",
    "valid_7_tens = valid_7_tens.float()/255\n",
    "#valid_3_tens.shape, valid_7_tens.shape"
   ]
  },
  {
   "cell_type": "code",
   "execution_count": 22,
   "id": "1aa5b7f0-c447-4e96-a6ad-f7ebfa2d9e16",
   "metadata": {},
   "outputs": [],
   "source": [
    "def mnist_distance(a,b):\n",
    "    return (a-b).abs().mean((-1,-2))\n",
    "#mnist_distance(a_3, mean3)\n"
   ]
  },
  {
   "cell_type": "code",
   "execution_count": 24,
   "id": "3b02a434-25f6-497f-937d-7a992fa125c8",
   "metadata": {},
   "outputs": [
    {
     "data": {
      "text/plain": [
       "(tensor([0.1280, 0.1623, 0.1242,  ..., 0.1508, 0.1263, 0.1260]),\n",
       " torch.Size([1010]))"
      ]
     },
     "execution_count": 24,
     "metadata": {},
     "output_type": "execute_result"
    }
   ],
   "source": [
    "valid_3_dist = mnist_distance(valid_3_tens, mean3)\n",
    "valid_3_dist, valid_3_dist.shape"
   ]
  },
  {
   "cell_type": "code",
   "execution_count": 27,
   "id": "7ace64fd-0366-41b8-a595-10883a8de09b",
   "metadata": {},
   "outputs": [
    {
     "data": {
      "text/plain": [
       "tensor([ True,  True,  True,  ..., False,  True,  True])"
      ]
     },
     "execution_count": 27,
     "metadata": {},
     "output_type": "execute_result"
    }
   ],
   "source": [
    "def is_3(x):\n",
    "    return mnist_distance(x, mean3) < mnist_distance(x, mean7)\n",
    "\n",
    "is_3(valid_3_tens)"
   ]
  },
  {
   "cell_type": "code",
   "execution_count": 29,
   "id": "4196b563-34fe-4606-a2eb-d64a94e856c0",
   "metadata": {},
   "outputs": [
    {
     "data": {
      "text/plain": [
       "(tensor(0.9168), tensor(0.9854), tensor(0.9511))"
      ]
     },
     "execution_count": 29,
     "metadata": {},
     "output_type": "execute_result"
    }
   ],
   "source": [
    "acc_3 = is_3(valid_3_tens).float().mean()\n",
    "acc_7 = (1 - is_3(valid_7_tens).float()).mean()\n",
    "acc_3, acc_7, (acc_3+acc_7)/2"
   ]
  },
  {
   "cell_type": "code",
   "execution_count": null,
   "id": "56b72749-3968-42bd-85ec-a81050d34982",
   "metadata": {},
   "outputs": [],
   "source": []
  }
 ],
 "metadata": {
  "kernelspec": {
   "display_name": "Python 3 (ipykernel)",
   "language": "python",
   "name": "python3"
  },
  "language_info": {
   "codemirror_mode": {
    "name": "ipython",
    "version": 3
   },
   "file_extension": ".py",
   "mimetype": "text/x-python",
   "name": "python",
   "nbconvert_exporter": "python",
   "pygments_lexer": "ipython3",
   "version": "3.12.2"
  }
 },
 "nbformat": 4,
 "nbformat_minor": 5
}
