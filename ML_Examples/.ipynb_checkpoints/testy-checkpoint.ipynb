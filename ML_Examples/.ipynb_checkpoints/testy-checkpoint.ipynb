{
 "cells": [
  {
   "cell_type": "markdown",
   "id": "5da2e7d8-bbf4-4157-9e06-475581bd94a6",
   "metadata": {},
   "source": [
    "Notatnik do testów kodu"
   ]
  },
  {
   "cell_type": "code",
   "execution_count": 19,
   "id": "f1080e26-6621-4a8f-ac6d-9dd164bc6ad1",
   "metadata": {},
   "outputs": [
    {
     "ename": "AttributeError",
     "evalue": "'Tensor' object has no attribute 'to_float'",
     "output_type": "error",
     "traceback": [
      "\u001b[1;31m---------------------------------------------------------------------------\u001b[0m",
      "\u001b[1;31mAttributeError\u001b[0m                            Traceback (most recent call last)",
      "Cell \u001b[1;32mIn[19], line 8\u001b[0m\n\u001b[0;32m      5\u001b[0m arr \u001b[38;5;241m=\u001b[39m np\u001b[38;5;241m.\u001b[39marray(data)\n\u001b[0;32m      6\u001b[0m tns \u001b[38;5;241m=\u001b[39m tr\u001b[38;5;241m.\u001b[39mtensor(data)\n\u001b[1;32m----> 8\u001b[0m \u001b[43mtns\u001b[49m\u001b[38;5;241;43m.\u001b[39;49m\u001b[43mto_float\u001b[49m\n",
      "\u001b[1;31mAttributeError\u001b[0m: 'Tensor' object has no attribute 'to_float'"
     ]
    }
   ],
   "source": [
    "import numpy as np\n",
    "import torch as tr\n",
    "\n",
    "data = [[1,2,3],[4,5,6]]\n",
    "arr = np.array(data)\n",
    "tns = tr.tensor(data)\n"
   ]
  },
  {
   "cell_type": "code",
   "execution_count": null,
   "id": "b9cd7960-c6b0-421e-9858-348f3927997c",
   "metadata": {},
   "outputs": [],
   "source": []
  }
 ],
 "metadata": {
  "kernelspec": {
   "display_name": "Python 3 (ipykernel)",
   "language": "python",
   "name": "python3"
  },
  "language_info": {
   "codemirror_mode": {
    "name": "ipython",
    "version": 3
   },
   "file_extension": ".py",
   "mimetype": "text/x-python",
   "name": "python",
   "nbconvert_exporter": "python",
   "pygments_lexer": "ipython3",
   "version": "3.12.2"
  }
 },
 "nbformat": 4,
 "nbformat_minor": 5
}
