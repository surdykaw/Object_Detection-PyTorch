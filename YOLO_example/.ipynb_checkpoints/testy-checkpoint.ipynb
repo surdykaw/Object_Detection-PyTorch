{
 "cells": [
  {
   "cell_type": "markdown",
   "id": "5da2e7d8-bbf4-4157-9e06-475581bd94a6",
   "metadata": {},
   "source": [
    "Notatnik do testów kodu"
   ]
  },
  {
   "cell_type": "code",
   "execution_count": 11,
   "id": "f1080e26-6621-4a8f-ac6d-9dd164bc6ad1",
   "metadata": {},
   "outputs": [],
   "source": [
    "import numpy as np\n",
    "import torch as tr\n",
    "import matplotlib.pyplot as plt\n",
    "\n"
   ]
  },
  {
   "cell_type": "code",
   "execution_count": 39,
   "id": "0a2db21e-de75-41fc-b713-e3c0e3fd2d5f",
   "metadata": {},
   "outputs": [
    {
     "data": {
      "text/plain": [
       "tensor([ 3.5000,  4.0000, 10.0000], requires_grad=True)"
      ]
     },
     "execution_count": 39,
     "metadata": {},
     "output_type": "execute_result"
    }
   ],
   "source": [
    "def f(x):\n",
    "    return x**3\n",
    "xlsp = np.linspace(-2.0, 2.0, 20)\n",
    "y = f(xlsp)\n",
    "xt = tr.tensor([3.5, 4., 10.]).requires_grad_()\n",
    "xt\n",
    "\n"
   ]
  },
  {
   "cell_type": "code",
   "execution_count": 40,
   "id": "0b4be42a-0d5f-40ee-b91b-57ba09fbe849",
   "metadata": {},
   "outputs": [
    {
     "data": {
      "text/plain": [
       "tensor([ 36.7500,  48.0000, 300.0000])"
      ]
     },
     "execution_count": 40,
     "metadata": {},
     "output_type": "execute_result"
    }
   ],
   "source": [
    "def add(x):\n",
    "    return (f(x).sum())\n",
    "yt = add(xt)\n",
    "\n",
    "yt.backward()\n",
    "xt.grad"
   ]
  },
  {
   "cell_type": "code",
   "execution_count": null,
   "id": "82bae747-89ca-4e23-a605-0e7f6d836773",
   "metadata": {},
   "outputs": [],
   "source": []
  }
 ],
 "metadata": {
  "kernelspec": {
   "display_name": "Python 3 (ipykernel)",
   "language": "python",
   "name": "python3"
  },
  "language_info": {
   "codemirror_mode": {
    "name": "ipython",
    "version": 3
   },
   "file_extension": ".py",
   "mimetype": "text/x-python",
   "name": "python",
   "nbconvert_exporter": "python",
   "pygments_lexer": "ipython3",
   "version": "3.12.2"
  }
 },
 "nbformat": 4,
 "nbformat_minor": 5
}
