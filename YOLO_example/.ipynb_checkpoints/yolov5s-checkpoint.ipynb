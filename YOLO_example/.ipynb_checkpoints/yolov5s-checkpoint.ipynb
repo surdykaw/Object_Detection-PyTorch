{
 "cells": [
  {
   "cell_type": "markdown",
   "id": "bdfc5f99-c6c0-4a09-ab7c-859e97971d75",
   "metadata": {},
   "source": [
    "# YOLOv5s Example"
   ]
  },
  {
   "cell_type": "code",
   "execution_count": 1,
   "id": "219a0b5f-1823-4462-8eb9-1dafb87adae1",
   "metadata": {},
   "outputs": [
    {
     "name": "stderr",
     "output_type": "stream",
     "text": [
      "Using cache found in C:\\Users\\Wojtek/.cache\\torch\\hub\\ultralytics_yolov5_master\n",
      "YOLOv5  2024-4-8 Python-3.12.2 torch-2.2.2+cu121 CUDA:0 (NVIDIA GeForce RTX 2060, 6144MiB)\n",
      "\n",
      "Fusing layers... \n",
      "YOLOv5s summary: 213 layers, 7225885 parameters, 0 gradients, 16.4 GFLOPs\n",
      "Adding AutoShape... \n"
     ]
    },
    {
     "ename": "FileNotFoundError",
     "evalue": "[WinError 3] The system cannot find the path specified: 'C:/Users/Wojtek/Documents/YOLO_example/F102_RGB'",
     "output_type": "error",
     "traceback": [
      "\u001b[1;31m---------------------------------------------------------------------------\u001b[0m",
      "\u001b[1;31mFileNotFoundError\u001b[0m                         Traceback (most recent call last)",
      "Cell \u001b[1;32mIn[1], line 14\u001b[0m\n\u001b[0;32m     12\u001b[0m \u001b[38;5;66;03m# Images\u001b[39;00m\n\u001b[0;32m     13\u001b[0m folder_dir \u001b[38;5;241m=\u001b[39m \u001b[38;5;124m\"\u001b[39m\u001b[38;5;124mC:/Users/Wojtek/Documents/YOLO_example/F102_RGB\u001b[39m\u001b[38;5;124m\"\u001b[39m\n\u001b[1;32m---> 14\u001b[0m imgs \u001b[38;5;241m=\u001b[39m [ img \u001b[38;5;28;01mfor\u001b[39;00m img \u001b[38;5;129;01min\u001b[39;00m \u001b[43mos\u001b[49m\u001b[38;5;241;43m.\u001b[39;49m\u001b[43mlistdir\u001b[49m\u001b[43m(\u001b[49m\u001b[43mfolder_dir\u001b[49m\u001b[43m)\u001b[49m ]\n\u001b[0;32m     15\u001b[0m \u001b[38;5;66;03m# Inference\u001b[39;00m\n\u001b[0;32m     16\u001b[0m results \u001b[38;5;241m=\u001b[39m model(imgs)\n",
      "\u001b[1;31mFileNotFoundError\u001b[0m: [WinError 3] The system cannot find the path specified: 'C:/Users/Wojtek/Documents/YOLO_example/F102_RGB'"
     ]
    }
   ],
   "source": [
    "import torch\n",
    "import time\n",
    "\n",
    "from pathlib import Path\n",
    "import os\n",
    "from os import listdir\n",
    "\n",
    "# Model\n",
    "model = torch.hub.load('ultralytics/yolov5', 'yolov5s', pretrained=True)\n",
    "\n",
    "start_time = time.time()\n",
    "# Images\n",
    "folder_dir = \"C:/Users/Wojtek/Documents/YOLO_example/files\"\n",
    "imgs = [ img for img in os.listdir(folder_dir) ]\n",
    "# Inference\n",
    "results = model(imgs)\n",
    "\n",
    "# Results\n",
    "results.print()\n",
    "results.save()  # or .show()\n",
    "end_time = time.time()\n",
    "\n",
    "final_time = end_time - start_time\n",
    "print(\"Czas wykonania: \", final_time)\n",
    "results.xyxy[0]  # img1 predictions (tensor)\n",
    "#results.pandas().xyxy[0]  # img1 predictions (pandas)"
   ]
  },
  {
   "cell_type": "code",
   "execution_count": null,
   "id": "faa8f72f-4434-4ea6-a70c-45eed3a5262a",
   "metadata": {},
   "outputs": [],
   "source": []
  }
 ],
 "metadata": {
  "kernelspec": {
   "display_name": "Python 3 (ipykernel)",
   "language": "python",
   "name": "python3"
  },
  "language_info": {
   "codemirror_mode": {
    "name": "ipython",
    "version": 3
   },
   "file_extension": ".py",
   "mimetype": "text/x-python",
   "name": "python",
   "nbconvert_exporter": "python",
   "pygments_lexer": "ipython3",
   "version": "3.12.2"
  }
 },
 "nbformat": 4,
 "nbformat_minor": 5
}
